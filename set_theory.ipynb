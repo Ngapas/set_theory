{
 "cells": [
  {
   "cell_type": "markdown",
   "id": "20cc8846-46af-413f-ad36-78b55f32d982",
   "metadata": {},
   "source": [
    "**1. \\(A\\setminus B = A \\cap B^c\\)**\r\n",
    "\r\n",
    "\\[\r\n",
    "\\begin{align*}\r\n",
    "\\text{LHS: } A\\setminus B & = \\{x \\in A \\, | \\, x \\notin B\\} \\\\\r\n",
    "\\text{RHS: } A \\cap B^c & = \\{x \\in A \\, | \\, x \\notin B\\}\r\n",
    "\\end{align*}\r\n",
    "\\]\r\n",
    "\r\n",
    "Explanation:\r\n",
    "\r\n",
    "- \\(A\\setminus B\\) represents the set of elements that are in \\(A\\) but not in \\(B\\).\r\n",
    "- \\(A \\cap B^c\\) represents the intersection of set \\(A\\) with the complement of set \\(B\\), where \\(B^c\\) is the set of elements not in \\(B\\).\r\n",
    "\r\n",
    "**Proof**: Let \\(x\\) be an element such that \\(x \\in A\\) and \\(x \\in B\\). Since \\(x\\) is in both \\(A\\) and \\(B\\), it cannot be in the complement of \\(B\\), which is \\(B^c\\). Therefore, \\(x\\) is not in \\(A \\cap B^c\\), and similarly, \\(x\\) is not in \\(A\\setminus B\\). Since \\(x\\) is not in both sets, they are equal. \r\n",
    "\r\n",
    "**2. \\(B = (B \\cap A) \\cup (B \\cap A^c)\\)**\r\n",
    "\r\n",
    "\\[\r\n",
    "\\begin{align*}\r\n",
    "\\text{LHS: } B & = \\{x \\in B\\} \\\\\r\n",
    "\\text{RHS: } (B \\cap A) \\cup (B \\cap A^c) & = \\{x \\in B \\, | \\, (x \\in A) \\, \\text{or} \\, (x \\notin A)\\}\r\n",
    "\\end{align*}\r\n",
    "\\]\r\n",
    "\r\n",
    "Explanation:\r\n",
    "\r\n",
    "- This identity states that set \\(B\\) is equal to the union of two sets: the intersection of \\(B\\) and \\(A\\), and the intersection of \\(B\\) and the complement of \\(A\\).\r\n",
    "\r\n",
    "**Proof**: Since \\(x\\) is in both \\(A\\) and \\(B\\) (as given), it is in \\(B \\cap A\\), and it is also in \\(B \\cap A^c\\). Therefore, \\(x\\) is in the union of these sets, and thus, the LHS is equal to the RHS.\r\n",
    "\r\n",
    "**3. \\(B\\setminus A = B \\cap A^c\\)**\r\n",
    "\r\n",
    "\\[\r\n",
    "\\begin{align*}\r\n",
    "\\text{LHS: } B\\setminus A & = \\{x \\in B \\, | \\, x \\notin A\\} \\\\\r\n",
    "\\text{RHS: } B \\cap A^c & = \\{x \\in B \\, | \\, x \\notin A\\}\r\n",
    "\\end{align*}\r\n",
    "\\]\r\n",
    "\r\n",
    "Explanation:\r\n",
    "\r\n",
    "- \\(B\\setminus A\\) represents the set of elements in \\(B\\) but not in \\(A\\).\r\n",
    "- \\(B \\cap A^c\\) represents the intersection of set \\(B\\) with the complement of \\(A\\), where \\(A^c\\) is the set of elements not in \\(A\\).\r\n",
    "\r\n",
    "**Proof**: Since \\(x\\) is in both \\(A\\) and \\(B\\), it cannot be in the complement of \\(A\\), which is \\(A^c\\). Therefore, \\(x\\) is not in \\(B \\cap A^c\\), and similarly, \\(x\\) is not in \\(B\\setminus A\\). Since \\(x\\) is not in both sets, they are equal.\r\n",
    "\r\n",
    "**4. \\(A \\cup B = A \\cup (B \\cap A^c)\\)**\r\n",
    "\r\n",
    "\\[\r\n",
    "\\begin{align*}\r\n",
    "\\text{LHS: } A \\cup B & = \\{x \\in A \\, \\text{or} \\, x \\in B\\} \\\\\r\n",
    "\\text{RHS: } A \\cup (B \\cap A^c) & = \\{x \\in A \\, \\text{or} \\, (x \\in B \\, \\text{and} \\, x \\notin A)\\}\r\n",
    "\\end{align*}\r\n",
    "\\]\r\n",
    "\r\n",
    "Explanation:\r\n",
    "\r\n",
    "- This identity states that the union of sets \\(A\\) and \\(B\\) is equal to the union of \\(A\\) and the intersection of \\(B\\) and the complement of \\(A\\).\r\n",
    "\r\n",
    "**Proof**: Since \\(x\\) is in both \\(A\\) and \\(B\\), it is in the union of these sets (LHS). Additionally, \\(x\\) is not in the complement of \\(A\\), which is \\(A^c\\), so it is also in the intersection of \\(B\\) and \\(A^c\\), which is included in the RHS. Therefore, the LHS is equal to the RHS.\r\n",
    "\r\n",
    "**5. \\((\\mathbb{U}_{i=1}^{\\infty} A_i^c)^c = \\bigcap_{i=1}^{\\infty} A_i\\)**\r\n",
    "\r\n",
    "\\[\r\n",
    "\\begin{align*}\r\n",
    "\\text{LHS: } \\left(\\bigcup_{i=1}^{\\infty} A_i^c\\right)^c & = \\left\\{x \\, \\left| \\, x \\notin \\bigcup_{i=1}^{\\infty} A_i^c\\right.\\right\\} \\\\\r\n",
    "\\text{RHS: } \\bigcap_{i=1}^{\\infty} A_i & = \\left\\{x \\, \\left| \\, \\forall i, x \\in A_i\\right.\\right\\}\r\n",
    "\\end{align*}\r\n",
    "\\]\r\n",
    "\r\n",
    "Explanation:\r\n",
    "\r\n",
    "- This identity involves the complement of the complement of the universal set symbol \\(\\mathbb{U}\\) with respect to the sets \\(A_i\\).\r\n",
    "\r\n",
    "**Proof**: This identity holds as a general set-theoretic identity, and the given condition does not affect its validity. Therefore, it is true.\r\n",
    "\r\n",
    "**6. \\(|A \\cup B| = |A| + |B| - |A \\cap B|\\)**\r\n",
    "\r\n",
    "\\[\r\n",
    "\\begin{align*}\r\n",
    "\\text{LHS: } |A \\cup B| & = \\text{cardinality of the union of sets \\(A\\) and \\(B\\)} \\\\\r\n",
    "\\text{RHS: } |A| + |B| - |A \\cap B| & = \\text{cardinality of \\(A\\) plus cardinality of \\(B\\) minus cardinality of the intersection of \\(A\\) and \\(B\\)}\r\n",
    "\\end{align*}\r\n",
    "\\]\r\n",
    "\r\n",
    "Explanation:\r\n",
    "\r\n",
    "- This identity, known as the Inclusion-Exclusion Principle, ia general set theory identity and holds regardless of the given condition. It is true.\r\n",
    "\r\n",
    "union of sets } A \\text{ and } B \\text{ using the Inclusion-\r\n",
    "union of sets } A \\text{ and } B \\text{ using the Inclusion-\r\n"
   ]
  },
  {
   "cell_type": "markdown",
   "id": "2a0fc4eb-a85b-4da7-8eec-58a75df6b4b0",
   "metadata": {},
   "source": [
    "# Sets and Subsets\r\n",
    "\r\n",
    "**Question 1:**\r\n",
    "\r\n",
    "If \\(A = \\{2, 3, 4, 5\\}\\) and \\(B = \\{x \\in \\mathbb{N} \\, | \\, x\\) is even\\), is \\(A \\subset B\\)? Show proof.\r\n",
    "\r\n",
    "**Proof:**\r\n",
    "- \\(2 \\in B\\) because it's an even number.\r\n",
    "- \\(3 \\not\\in B\\) because it's an odd number.\r\n",
    "- \\(4 \\in B\\) because it's an even number.\r\n",
    "- \\(5 \\not\\in B\\) because it's an odd number.\r\n",
    "\r\n",
    "Since every element in \\(A\\) is also in \\(B\\), we can conclude that \\(A subset B\\).\r\n"
   ]
  },
  {
   "cell_type": "markdown",
   "id": "386da170-ecad-453c-a284-488f925fe8bb",
   "metadata": {},
   "source": [
    "**Question 2:**\n",
    "\n",
    "Let sets \\(\\textbf{A} = \\{x \\, | \\, x \\in \\mathbb{Z}, 0 \\leq x \\leq 9\\}\\),\n",
    "\\(\\textbf{B} = \\{2, 4, 6, 8\\}\\),\n",
    "\\(\\textbf{C} = \\{1, 3, 5, 7, 9\\}\\), and\n",
    "\\(\\textbf{D} = \\{3, 4, 5\\}\\).\n",
    "\n",
    "Find a set \\(\\textbf{X}\\) which will satisfy the following conditions:\n",
    "1. \\(\\textbf{X}\\) and \\(\\textbf{B}\\) are disjoint.\n",
    "2. \\(\\textbf{X} \\subseteq \\textbf{D}\\) but \\(\\textbf{X} \\not\\subseteq \\textbf{B}\\).\n",
    "3. \\(\\textbf{X} \\subseteq \\textbf{A}\\) but \\(\\textbf{X} \\not\\subseteq \\textbf{C}\\)."
   ]
  },
  {
   "cell_type": "markdown",
   "id": "b61fd4da-086e-46ee-bdd5-7dcdba56cdf1",
   "metadata": {},
   "source": [
    "# Set Operations\n",
    "\n",
    "**Manual Solution (LaTeX):**\n",
    "Symmetric Difference (C ⊕ D):\n",
    "\\[\n",
    "C \\oplus D = (C \\cup D) - (C \\cap D) = \\{5,6,7,8,9\\} - \\{5,7,9\\} = \\{6,8\\}\n",
    "\\]"
   ]
  },
  {
   "cell_type": "code",
   "execution_count": 5,
   "id": "3acf50c9-ff38-462e-9a1a-615612bebe33",
   "metadata": {},
   "outputs": [
    {
     "name": "stdout",
     "output_type": "stream",
     "text": [
      "Symmetric Difference (C ⊕ D): {1, 3, 6, 8}\n"
     ]
    }
   ],
   "source": [
    "# Python Solution:\n",
    "# Given Sets\n",
    "C = {5, 6, 7, 8, 9}\n",
    "D = {1, 3, 5, 7, 9}\n",
    "\n",
    "# Calculate Symmetric Difference\n",
    "symmetric_difference = C ^ D\n",
    "\n",
    "# Display Result\n",
    "print(\"Symmetric Difference (C ⊕ D):\", symmetric_difference)"
   ]
  },
  {
   "cell_type": "markdown",
   "id": "1a712447-f119-4b4a-aee3-dee38ba88260",
   "metadata": {},
   "source": [
    "**Manual Solution (LaTeX):**\n",
    "Set Difference (A \\ B):\n",
    "\\[\n",
    "A \\setminus B = A - (A \\cap B) = \\{1,2,3,4,5\\} - \\{4,5\\} = \\{1,2,3\\}\n",
    "\\]"
   ]
  },
  {
   "cell_type": "code",
   "execution_count": 7,
   "id": "fa07466f-fd69-4036-80ff-c4beadbdf316",
   "metadata": {},
   "outputs": [
    {
     "name": "stdout",
     "output_type": "stream",
     "text": [
      "Set Difference (A \\ B): {1, 2, 3}\n"
     ]
    }
   ],
   "source": [
    "# Python Solution:\n",
    "# Given Sets\n",
    "A = {1, 2, 3, 4, 5}\n",
    "B = {4, 5}\n",
    "\n",
    "# Calculate Set Difference\n",
    "difference_AB = A - B\n",
    "\n",
    "# Display Result\n",
    "print(\"Set Difference (A \\ B):\", difference_AB)"
   ]
  },
  {
   "cell_type": "markdown",
   "id": "2bf4f626-f80c-46d7-bd69-6033c733501b",
   "metadata": {},
   "source": [
    "**Manual Solution (LaTeX):**\n",
    "Set Difference (B \\ A):\n",
    "\\[\n",
    "B \\setminus A = B - (B \\cap A) = \\{4,5,6,7\\} - \\{4,5\\} = \\{6,7\\}\n",
    "\\]"
   ]
  },
  {
   "cell_type": "code",
   "execution_count": 8,
   "id": "99685094-fbf4-4c0e-99f6-2942b3acd293",
   "metadata": {},
   "outputs": [
    {
     "name": "stdout",
     "output_type": "stream",
     "text": [
      "Set Difference (B \\ A): {6, 7}\n"
     ]
    }
   ],
   "source": [
    "# Python Solution:\n",
    "# Given Sets\n",
    "B = {4, 5, 6, 7}\n",
    "A = {1, 2, 3, 4, 5}\n",
    "\n",
    "# Calculate Set Difference\n",
    "difference_BA = B - A\n",
    "\n",
    "# Display Result\n",
    "print(\"Set Difference (B \\ A):\", difference_BA)"
   ]
  },
  {
   "cell_type": "markdown",
   "id": "6a3ae5e3-8bd0-4ab6-923f-be32bb7f06e7",
   "metadata": {},
   "source": [
    "**Manual Solution (LaTeX):**\n",
    "Symmetric Difference (E ⊕ F):\n",
    "\\[\n",
    "E \\oplus F = (E \\cup F) - (E \\cap F) = \\{1,2,4,5,6,8,9\\} - \\{1,5\\} = \\{2,4,6,8,9\\}\n",
    "\\]"
   ]
  },
  {
   "cell_type": "code",
   "execution_count": 9,
   "id": "edf1878d-6f42-4e7f-8edc-66b691ac8768",
   "metadata": {},
   "outputs": [
    {
     "name": "stdout",
     "output_type": "stream",
     "text": [
      "Symmetric Difference (E ⊕ F): {1, 2, 4, 5, 6, 8, 9}\n"
     ]
    }
   ],
   "source": [
    "# Python Solution:\n",
    "# Given Sets\n",
    "E = {2, 4, 6, 8}\n",
    "F = {1, 5, 9}\n",
    "\n",
    "# Calculate Symmetric Difference\n",
    "symmetric_difference_EF = E ^ F\n",
    "\n",
    "# Display Result\n",
    "print(\"Symmetric Difference (E ⊕ F):\", symmetric_difference_EF)"
   ]
  },
  {
   "cell_type": "code",
   "execution_count": 10,
   "id": "0b31e037-5465-47ae-bba1-b746013b1765",
   "metadata": {},
   "outputs": [
    {
     "data": {
      "image/png": "[encoded data removed]",
      "text/plain": [
       "<Figure size 640x480 with 1 Axes>"
      ]
     },
     "metadata": {},
     "output_type": "display_data"
    }
   ],
   "source": [
    "# Finite Sets and The Counting Principles\n",
    "\n",
    "from matplotlib_venn import venn3\n",
    "import matplotlib.pyplot as plt\n",
    "\n",
    "# Define the subsets and overlaps\n",
    "venn = venn3(subsets=(65, 45, 25, 42, 20, 15, 8), set_labels=('Newsweek', 'Times', 'Fortune'))\n",
    "\n",
    "# Add labels\n",
    "venn.get_label_by_id('100').set_text('65')\n",
    "venn.get_label_by_id('010').set_text('45')\n",
    "venn.get_label_by_id('001').set_text('42')\n",
    "venn.get_label_by_id('110').set_text('20')\n",
    "venn.get_label_by_id('101').set_text('25')\n",
    "venn.get_label_by_id('011').set_text('15')\n",
    "venn.get_label_by_id('111').set_text('8')\n",
    "\n",
    "plt.title(\"Magazine Readership Venn Diagram\")\n",
    "plt.show()"
   ]
  },
  {
   "cell_type": "code",
   "execution_count": 11,
   "id": "9b4ae0df-b8f3-418c-9438-053d91f2e365",
   "metadata": {},
   "outputs": [
    {
     "name": "stdout",
     "output_type": "stream",
     "text": [
      "Number of people who read at least one magazine: 100\n"
     ]
    }
   ],
   "source": [
    "total_readers = 65 + 45 + 42 - 20 - 25 - 15 + 8\n",
    "print(\"Number of people who read at least one magazine:\", total_readers)"
   ]
  },
  {
   "cell_type": "code",
   "execution_count": 12,
   "id": "2250d7af-e3c3-4c7e-8358-44395cdad4a4",
   "metadata": {},
   "outputs": [
    {
     "name": "stdout",
     "output_type": "stream",
     "text": [
      "Number of people who read exactly one magazine: 56\n"
     ]
    }
   ],
   "source": [
    "exactly_one_newsweek = 65 - 20 - 25 + 8\n",
    "exactly_one_times = 45 - 20 - 15 + 8\n",
    "exactly_one_fortune = 42 - 25 - 15 + 8\n",
    "\n",
    "total_exactly_one = exactly_one_newsweek + exactly_one_times + exactly_one_fortune\n",
    "print(\"Number of people who read exactly one magazine:\", total_exactly_one)"
   ]
  },
  {
   "cell_type": "code",
   "execution_count": 13,
   "id": "bf9b27c0-2c2a-4e30-8e0b-a913dadced44",
   "metadata": {},
   "outputs": [
    {
     "data": {
      "image/png": "[encoded data removed]",
      "text/plain": [
       "<Figure size 640x480 with 1 Axes>"
      ]
     },
     "metadata": {},
     "output_type": "display_data"
    }
   ],
   "source": [
    "from matplotlib_venn import venn3\n",
    "import matplotlib.pyplot as plt\n",
    "\n",
    "# Define the subsets\n",
    "a = 15\n",
    "r = 12\n",
    "w = 11\n",
    "aw = 5\n",
    "ar = 9\n",
    "rw = 4\n",
    "arw = 3\n",
    "\n",
    "# Create the Venn diagram\n",
    "venn = venn3(subsets=(a, r, ar, w, aw, rw, arw), set_labels=('A', 'R', 'W'))\n",
    "\n",
    "# Add labels\n",
    "venn.get_label_by_id('100').set_text(a)\n",
    "venn.get_label_by_id('010').set_text(r)\n",
    "venn.get_label_by_id('001').set_text(w)\n",
    "venn.get_label_by_id('110').set_text(ar)\n",
    "venn.get_label_by_id('101').set_text(aw)\n",
    "venn.get_label_by_id('011').set_text(rw)\n",
    "venn.get_label_by_id('111').set_text(arw)\n",
    "\n",
    "plt.title(\"Car Options Venn Diagram\")\n",
    "plt.show()"
   ]
  },
  {
   "cell_type": "code",
   "execution_count": 14,
   "id": "bef5b1b0-6076-4b72-afe7-5877d0a12c40",
   "metadata": {},
   "outputs": [
    {
     "name": "stdout",
     "output_type": "stream",
     "text": [
      "Number of cars with W only: 5\n"
     ]
    }
   ],
   "source": [
    "w_only = w - (aw + rw - arw)\n",
    "print(\"Number of cars with W only:\", w_only)"
   ]
  },
  {
   "cell_type": "code",
   "execution_count": 15,
   "id": "416417b5-4f88-438c-8632-dcdbd9a9221c",
   "metadata": {},
   "outputs": [
    {
     "name": "stdout",
     "output_type": "stream",
     "text": [
      "Number of cars with A only: 4\n"
     ]
    }
   ],
   "source": [
    "a_only = a - (aw + ar - arw)\n",
    "print(\"Number of cars with A only:\", a_only)"
   ]
  },
  {
   "cell_type": "code",
   "execution_count": 16,
   "id": "7d9e063c-1a3e-45ea-a808-66b6c63b89a6",
   "metadata": {},
   "outputs": [
    {
     "name": "stdout",
     "output_type": "stream",
     "text": [
      "Number of cars with R only: 2\n"
     ]
    }
   ],
   "source": [
    "r_only = r - (ar + rw - arw)\n",
    "print(\"Number of cars with R only:\", r_only)"
   ]
  },
  {
   "cell_type": "code",
   "execution_count": 17,
   "id": "bf51a859-c2da-4d5d-8db4-6cc699fb4505",
   "metadata": {},
   "outputs": [
    {
     "name": "stdout",
     "output_type": "stream",
     "text": [
      "Number of cars with both R and W but not A: 1\n"
     ]
    }
   ],
   "source": [
    "r_w_not_a = rw - arw\n",
    "print(\"Number of cars with both R and W but not A:\", r_w_not_a)"
   ]
  },
  {
   "cell_type": "code",
   "execution_count": 18,
   "id": "8690a7ac-7157-4718-96c9-3758ce878da9",
   "metadata": {},
   "outputs": [
    {
     "name": "stdout",
     "output_type": "stream",
     "text": [
      "Number of cars with both A and R but not W: 6\n"
     ]
    }
   ],
   "source": [
    "a_r_not_w = ar - arw\n",
    "print(\"Number of cars with both A and R but not W:\", a_r_not_w)"
   ]
  },
  {
   "cell_type": "code",
   "execution_count": 19,
   "id": "bdfe514e-3f76-4686-8c5d-277914565f64",
   "metadata": {},
   "outputs": [
    {
     "name": "stdout",
     "output_type": "stream",
     "text": [
      "Number of cars with only one of the options: 11\n"
     ]
    }
   ],
   "source": [
    "only_one_option = a_only + r_only + w_only\n",
    "print(\"Number of cars with only one of the options:\", only_one_option)"
   ]
  },
  {
   "cell_type": "code",
   "execution_count": 20,
   "id": "a3c02ef2-d7ef-4202-88c0-d4a73d3a62a8",
   "metadata": {},
   "outputs": [
    {
     "name": "stdout",
     "output_type": "stream",
     "text": [
      "Number of cars with at least one option: 25\n"
     ]
    }
   ],
   "source": [
    "at_least_one_option = 25 - (0)  # Since none have none of the options\n",
    "print(\"Number of cars with at least one option:\", at_least_one_option)"
   ]
  },
  {
   "cell_type": "code",
   "execution_count": 22,
   "id": "85111f7b-38c2-4582-bff2-999323e2d8c3",
   "metadata": {},
   "outputs": [
    {
     "name": "stdout",
     "output_type": "stream",
     "text": [
      "Number of cars with none of the options: 0\n"
     ]
    }
   ],
   "source": [
    "none_of_the_options = 25 - at_least_one_option\n",
    "print(\"Number of cars with none of the options:\", none_of_the_options)"
   ]
  },
  {
   "cell_type": "code",
   "execution_count": null,
   "id": "c72e009f-f5a9-400a-b15d-942648cc7ae3",
   "metadata": {},
   "outputs": [],
   "source": []
  }
 ],
 "metadata": {
  "kernelspec": {
   "display_name": "Python 3 (ipykernel)",
   "language": "python",
   "name": "python3"
  },
  "language_info": {
   "codemirror_mode": {
    "name": "ipython",
    "version": 3
   },
   "file_extension": ".py",
   "mimetype": "text/x-python",
   "name": "python",
   "nbconvert_exporter": "python",
   "pygments_lexer": "ipython3",
   "version": "3.10.0"
  }
 },
 "nbformat": 4,
 "nbformat_minor": 5
}
